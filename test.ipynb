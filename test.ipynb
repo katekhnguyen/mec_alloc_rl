{
 "cells": [
  {
   "cell_type": "code",
   "execution_count": null,
   "id": "8964cba6",
   "metadata": {},
   "outputs": [],
   "source": [
    "import gym\n",
    "import numpy as np\n",
    "\n",
    "from stable_baselines3 import TD3\n",
    "from stable_baselines3.common.noise import NormalActionNoise, OrnsteinUhlenbeckActionNoise\n",
    "\n",
    "env = gym.make(\"Pendulum-v1\")\n",
    "\n",
    "# The noise objects for TD3\n",
    "n_actions = env.action_space.shape[-1]\n",
    "action_noise = NormalActionNoise(mean=np.zeros(n_actions), sigma=0.1 * np.ones(n_actions))\n",
    "\n",
    "model = TD3(\"MlpPolicy\", env, action_noise=action_noise, verbose=1)\n",
    "model.learn(total_timesteps=50, log_interval=10)\n",
    "model.save(\"td3_pendulum\")\n",
    "env = model.get_env()\n",
    "\n",
    "del model # remove to demonstrate saving and loading\n",
    "\n",
    "model = TD3.load(\"td3_pendulum\")\n",
    "obs = env.reset()\n"
   ]
  },
  {
   "cell_type": "code",
   "execution_count": 17,
   "id": "7f32a46c",
   "metadata": {},
   "outputs": [
    {
     "name": "stdout",
     "output_type": "stream",
     "text": [
      "[[1.461299]]\n",
      "[[1.5287452]]\n",
      "[[1.5977554]]\n",
      "[[1.6626968]]\n",
      "[[1.7252436]]\n",
      "[[1.7807403]]\n",
      "[[1.8301282]]\n",
      "[[1.872613]]\n",
      "[[1.9089503]]\n",
      "[[1.9385443]]\n",
      "[[1.9622383]]\n",
      "[[1.978699]]\n",
      "[[1.9894986]]\n",
      "[[1.995569]]\n",
      "[[1.9983554]]\n",
      "[[1.9994912]]\n",
      "[[1.9998696]]\n",
      "[[1.9999738]]\n",
      "[[1.999996]]\n",
      "[[1.9999995]]\n"
     ]
    }
   ],
   "source": [
    "for i in range(20):\n",
    "    action, _states = model.predict(obs)\n",
    "    print(action)\n",
    "    obs, rewards, dones, info = env.step(action)"
   ]
  },
  {
   "cell_type": "code",
   "execution_count": 20,
   "id": "86a55a42",
   "metadata": {},
   "outputs": [
    {
     "data": {
      "text/plain": [
       "Box([-2.], [2.], (1,), float32)"
      ]
     },
     "execution_count": 20,
     "metadata": {},
     "output_type": "execute_result"
    }
   ],
   "source": [
    "env.action_space"
   ]
  },
  {
   "cell_type": "code",
   "execution_count": null,
   "id": "96b1743b",
   "metadata": {},
   "outputs": [],
   "source": []
  }
 ],
 "metadata": {
  "kernelspec": {
   "display_name": "Python 3 (ipykernel)",
   "language": "python",
   "name": "python3"
  },
  "language_info": {
   "codemirror_mode": {
    "name": "ipython",
    "version": 3
   },
   "file_extension": ".py",
   "mimetype": "text/x-python",
   "name": "python",
   "nbconvert_exporter": "python",
   "pygments_lexer": "ipython3",
   "version": "3.9.15"
  }
 },
 "nbformat": 4,
 "nbformat_minor": 5
}
